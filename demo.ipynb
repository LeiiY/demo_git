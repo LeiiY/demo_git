{
 "cells": [
  {
   "cell_type": "code",
   "execution_count": 1,
   "id": "d0b5ac11-c20c-4516-9b25-37f9eb036a4e",
   "metadata": {},
   "outputs": [],
   "source": [
    "passwd_dict={\n",
    "    '1':1,\n",
    "    '2':2\n",
    "}"
   ]
  },
  {
   "cell_type": "code",
   "execution_count": 4,
   "id": "b68bc1cb-3646-4147-9ea1-7b5b925f4290",
   "metadata": {},
   "outputs": [
    {
     "name": "stdout",
     "output_type": "stream",
     "text": [
      "{'1': 1000, '2': 2}\n"
     ]
    }
   ],
   "source": [
    "print(passwd_dict)"
   ]
  },
  {
   "cell_type": "code",
   "execution_count": 3,
   "id": "7c4a9266-39bb-4cc1-8443-23cb637fdde6",
   "metadata": {},
   "outputs": [],
   "source": [
    "passwd_dict['1'] = 1000"
   ]
  }
 ],
 "metadata": {
  "kernelspec": {
   "display_name": "Python 3 (ipykernel)",
   "language": "python",
   "name": "python3"
  },
  "language_info": {
   "codemirror_mode": {
    "name": "ipython",
    "version": 3
   },
   "file_extension": ".py",
   "mimetype": "text/x-python",
   "name": "python",
   "nbconvert_exporter": "python",
   "pygments_lexer": "ipython3",
   "version": "3.10.10"
  }
 },
 "nbformat": 4,
 "nbformat_minor": 5
}
